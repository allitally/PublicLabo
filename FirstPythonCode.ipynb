{
  "nbformat": 4,
  "nbformat_minor": 0,
  "metadata": {
    "colab": {
      "name": "FirstPythonCode",
      "version": "0.3.2",
      "provenance": [],
      "include_colab_link": true
    },
    "kernelspec": {
      "name": "python3",
      "display_name": "Python 3"
    }
  },
  "cells": [
    {
      "cell_type": "markdown",
      "metadata": {
        "id": "view-in-github",
        "colab_type": "text"
      },
      "source": [
        "<a href=\"https://colab.research.google.com/github/allitally/PublicLabo/blob/master/FirstPythonCode.ipynb\" target=\"_parent\"><img src=\"https://colab.research.google.com/assets/colab-badge.svg\" alt=\"Open In Colab\"/></a>"
      ]
    },
    {
      "metadata": {
        "id": "zZeFxQDk4oi1",
        "colab_type": "text"
      },
      "cell_type": "markdown",
      "source": [
        "# 構文解析器としてLarkを使用"
      ]
    },
    {
      "metadata": {
        "id": "FOsOcCEW4Ugx",
        "colab_type": "code",
        "colab": {
          "base_uri": "https://localhost:8080/",
          "height": 261
        },
        "outputId": "df742831-71f5-46b0-c769-c669289008ec"
      },
      "cell_type": "code",
      "source": [
        "!pip install lark-parser"
      ],
      "execution_count": 1,
      "outputs": [
        {
          "output_type": "stream",
          "text": [
            "Collecting lark-parser\n",
            "\u001b[?25l  Downloading https://files.pythonhosted.org/packages/7c/1a/36d20242838a523252d053f718b8d6e98c72c07afc45a581d493f8a9dd69/lark-parser-0.6.6.tar.gz (260kB)\n",
            "\u001b[K    100% |████████████████████████████████| 266kB 12.0MB/s \n",
            "\u001b[?25hBuilding wheels for collected packages: lark-parser\n",
            "  Building wheel for lark-parser (setup.py) ... \u001b[?25ldone\n",
            "\u001b[?25h  Stored in directory: /root/.cache/pip/wheels/68/71/e6/43aab6931e46cafdca614fa6f498f55fab26317f4307cdf765\n",
            "Successfully built lark-parser\n",
            "Installing collected packages: lark-parser\n",
            "Successfully installed lark-parser-0.6.6\n"
          ],
          "name": "stdout"
        }
      ]
    },
    {
      "metadata": {
        "id": "6RawVoKY6pML",
        "colab_type": "code",
        "colab": {}
      },
      "cell_type": "code",
      "source": [
        ""
      ],
      "execution_count": 0,
      "outputs": []
    }
  ]
}